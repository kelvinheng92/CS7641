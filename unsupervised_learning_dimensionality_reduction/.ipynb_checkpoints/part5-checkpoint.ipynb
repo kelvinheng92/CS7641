{
 "cells": [
  {
   "cell_type": "code",
   "execution_count": 1,
   "metadata": {},
   "outputs": [],
   "source": [
    "import pandas as pd\n",
    "import numpy as np\n",
    "import pickle\n",
    "import math\n",
    "import time\n",
    "from sklearn.preprocessing import MinMaxScaler\n",
    "from sklearn.model_selection import train_test_split, cross_validate, RandomizedSearchCV, StratifiedShuffleSplit\n",
    "from sklearn.neural_network import MLPClassifier\n",
    "from sklearn.mixture import GaussianMixture\n",
    "from sklearn.metrics import make_scorer, roc_auc_score, accuracy_score, average_precision_score, f1_score, silhouette_score, v_measure_score\n",
    "from sklearn.decomposition import PCA\n",
    "from sklearn.cluster import KMeans\n",
    "from sklearn.manifold import Isomap\n",
    "from sklearn.random_projection import GaussianRandomProjection\n",
    "from sklearn.decomposition import PCA, FastICA\n",
    "from scipy.stats import uniform as sp_randFloat\n",
    "from scipy.stats import randint as sp_randInt\n",
    "import matplotlib.pyplot as plt\n",
    "from IPython.display import display\n",
    "pd.set_option('display.max_columns', None)\n",
    "pd.set_option('display.max_rows', None)"
   ]
  },
  {
   "cell_type": "code",
   "execution_count": 2,
   "metadata": {},
   "outputs": [],
   "source": [
    "def get_auc_from_clf(clf, X, Y, score_fn):\n",
    "    pred = clf.predict_proba(X)[:,1]\n",
    "    return score_fn(Y, pred)\n",
    "\n",
    "def custom_scorer(y_true, y_pred, actual_scorer):\n",
    "    score = np.nan\n",
    "\n",
    "    try:\n",
    "      score = actual_scorer(y_true, y_pred)\n",
    "    except Exception: \n",
    "      pass\n",
    "\n",
    "    return score\n",
    "\n",
    "seed = 0\n",
    "metric = 'aucprc'\n",
    "score_fn = average_precision_score\n",
    "auc_score = make_scorer(custom_scorer, actual_scorer = score_fn, needs_threshold=True)\n",
    "scoring = {metric: auc_score}\n",
    "full_df = pd.read_csv(\"dataset1/processed_full_data.csv\")\n",
    "trainval_df = pd.read_csv(\"dataset1/processed_trainval_data.csv\")\n",
    "test_df = pd.read_csv(\"dataset1/processed_test_data.csv\")\n",
    "cluster_dict = {'kmeans': 3, 'EM': 6}"
   ]
  },
  {
   "cell_type": "code",
   "execution_count": 9,
   "metadata": {},
   "outputs": [],
   "source": [
    "def fit_kmeans(X, cluster_dict, seed):\n",
    "    print('Performing KMeans')\n",
    "    kmeans = KMeans(n_clusters=cluster_dict['kmeans'], max_iter=300,\n",
    "                    random_state=seed, n_jobs=-1, algorithm='auto').fit(X)\n",
    "    cluster_labels = kmeans.predict(X)\n",
    "    return kmeans, cluster_labels\n",
    "        \n",
    "def fit_EM(X, cluster_dict, seed):\n",
    "    print('Performing EM')\n",
    "    \n",
    "    EM = GaussianMixture(n_components=cluster_dict['EM'], n_init = 5, random_state=seed)\n",
    "    EM.fit(X)\n",
    "    cluster_labels = EM.predict(X)\n",
    "    return EM, cluster_labels"
   ]
  },
  {
   "cell_type": "code",
   "execution_count": 15,
   "metadata": {},
   "outputs": [
    {
     "name": "stdout",
     "output_type": "stream",
     "text": [
      "Performing KMeans\n",
      "Performing EM\n"
     ]
    },
    {
     "data": {
      "text/plain": [
       "<matplotlib.legend.Legend at 0x7efbc828ebd0>"
      ]
     },
     "execution_count": 15,
     "metadata": {},
     "output_type": "execute_result"
    },
    {
     "data": {
      "image/png": "[encoded data removed]",
      "text/plain": [
       "<Figure size 432x288 with 1 Axes>"
      ]
     },
     "metadata": {
      "needs_background": "light"
     },
     "output_type": "display_data"
    },
    {
     "data": {
      "image/png": "[encoded data removed]",
      "text/plain": [
       "<Figure size 432x288 with 1 Axes>"
      ]
     },
     "metadata": {
      "needs_background": "light"
     },
     "output_type": "display_data"
    }
   ],
   "source": [
    "best_params = {'early_stopping': False, 'hidden_layer_sizes': (20, 8),\n",
    "               'learning_rate_init': 0.01, 'max_iter': 2146,\n",
    "               'validation_fraction': 0.248039966366824}\n",
    "algos_str = ['KMeans', 'EM']\n",
    "\n",
    "features = list(set(full_df.columns) - set(['label']))\n",
    "full_X = full_df[features]\n",
    "full_Y = full_df['label']\n",
    "train_score = []\n",
    "val_score = []\n",
    "test_score = []\n",
    "time_list = []\n",
    "\n",
    "for clustering_fn in [fit_kmeans, fit_EM]:\n",
    "    \n",
    "    trainval_X = trainval_df[features]\n",
    "    trainval_Y = trainval_df['label']\n",
    "    algo, trainval_cluster_labels = clustering_fn(trainval_X, cluster_dict, seed)\n",
    "    trainval_X['cluster_labels'] = trainval_cluster_labels\n",
    "    \n",
    "    test_X = test_df[features]\n",
    "    test_Y = test_df['label']\n",
    "    test_cluster_labels = algo.predict(test_X)\n",
    "    test_X['cluster_labels'] = test_cluster_labels\n",
    "\n",
    "    clf = MLPClassifier(random_state=seed, **best_params)\n",
    "    scores = cross_validate(clf, trainval_X, trainval_Y, scoring=scoring, cv=3, return_train_score=True, return_estimator=True)\n",
    "\n",
    "    train_score.append(np.mean(scores[f'train_{metric}']))\n",
    "    val_score.append(np.mean(scores[f'test_{metric}']))\n",
    "    \n",
    "    start_time = time.time()\n",
    "    clf = MLPClassifier(random_state=seed, **best_params)\n",
    "    clf.fit(trainval_X, trainval_Y)\n",
    "    time_taken = round(time.time() - start_time, 4)\n",
    "    \n",
    "    time_list.append(time_taken)\n",
    "    test_auc = get_auc_from_clf(clf, test_X, test_Y, score_fn)\n",
    "    test_score.append(test_auc)\n",
    "    \n",
    "plt.figure()\n",
    "plt.title(\"AUCs vs algorithms\")\n",
    "plt.plot(algos_str, train_score, label = 'train_auc')\n",
    "plt.plot(algos_str, val_score, label = 'val_auc')\n",
    "plt.plot(algos_str, test_score, label = 'test_auc')\n",
    "plt.axhline(y=0.8390064818265703, color='r', linestyle='-', label = 'A1 valid auc')\n",
    "plt.axhline(y=0.5599280351451511, color='b', linestyle='-', label = 'A1 test auc')\n",
    "plt.legend()\n",
    "\n",
    "plt.figure()\n",
    "plt.plot(algos_str, time_list, label = 'time taken')\n",
    "plt.axhline(y=0.2031, color='r', linestyle='-', label = 'A1 NN fit time')\n",
    "plt.legend()"
   ]
  }
 ],
 "metadata": {
  "kernelspec": {
   "display_name": "Python [conda env:ml] *",
   "language": "python",
   "name": "conda-env-ml-py"
  },
  "language_info": {
   "codemirror_mode": {
    "name": "ipython",
    "version": 3
   },
   "file_extension": ".py",
   "mimetype": "text/x-python",
   "name": "python",
   "nbconvert_exporter": "python",
   "pygments_lexer": "ipython3",
   "version": "3.7.6"
  }
 },
 "nbformat": 4,
 "nbformat_minor": 4
}
